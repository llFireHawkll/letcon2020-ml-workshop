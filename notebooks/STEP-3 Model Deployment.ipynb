{
 "cells": [
  {
   "cell_type": "code",
   "execution_count": 1,
   "metadata": {
    "ExecuteTime": {
     "end_time": "2020-08-18T18:33:15.594046Z",
     "start_time": "2020-08-18T18:33:15.581040Z"
    }
   },
   "outputs": [],
   "source": [
    "import sys\n",
    "sys.path.append('..')"
   ]
  },
  {
   "cell_type": "code",
   "execution_count": 2,
   "metadata": {
    "ExecuteTime": {
     "end_time": "2020-08-18T18:33:17.951711Z",
     "start_time": "2020-08-18T18:33:16.018740Z"
    }
   },
   "outputs": [
    {
     "name": "stdout",
     "output_type": "stream",
     "text": [
      "Initializing Logger Path...\n",
      "Logger Path Exists...\n",
      "Path for Logger-->C:/Users/SPARS/Desktop/LETCON-Conference/letcon2020-ml-workshop/notebooks/Logs/\n",
      "Initializing Artifacts Path...\n",
      "Artifacts Path Exists...\n",
      "Path for Artifacts-->C:/Users/SPARS/Desktop/LETCON-Conference/letcon2020-ml-workshop/notebooks/Artifacts/\n"
     ]
    }
   ],
   "source": [
    "from letcon.src.utils.utils import save_artifacts\n",
    "from letcon.src.data_loader import data_ml\n",
    "from letcon.src.model import model_ml\n",
    "\n",
    "import requests\n",
    "import pandas as pd"
   ]
  },
  {
   "cell_type": "code",
   "execution_count": 3,
   "metadata": {
    "ExecuteTime": {
     "end_time": "2020-08-18T18:33:17.967705Z",
     "start_time": "2020-08-18T18:33:17.952706Z"
    }
   },
   "outputs": [],
   "source": [
    "TrainData = pd.read_csv('data/wine-quality/winequality-white-updated.csv')"
   ]
  },
  {
   "cell_type": "code",
   "execution_count": 11,
   "metadata": {
    "ExecuteTime": {
     "end_time": "2020-08-18T18:34:39.068283Z",
     "start_time": "2020-08-18T18:34:39.058322Z"
    }
   },
   "outputs": [],
   "source": [
    "data_config= {'train_data' : TrainData,\n",
    "             'test_data' : None,\n",
    "             'unique_id' : None,\n",
    "             'time_id' : None,\n",
    "             'x_vars' : [\n",
    "                         'fixed_acidity', \n",
    "                         'volatile_acidity', \n",
    "                         'citric_acid', \n",
    "                         'residual_sugar',\n",
    "                         'chlorides', \n",
    "                         'free_sulfur_dioxide', \n",
    "                         'total_sulfur_dioxide', \n",
    "                         'density',\n",
    "                         'pH', \n",
    "                         'sulphates', \n",
    "                         'alcohol', \n",
    "             ],\n",
    "             'cat_vars' : [],\n",
    "             'y_var' : 'quality',\n",
    "             'stratify' : 'quality',\n",
    "             'test_size' : 0.20,\n",
    "             'use_full_dataset' : True,\n",
    "             'encoding_style' : 'label_encoding',\n",
    "             'impute_missing' : 'mean',\n",
    "             'capping_vars' : {},\n",
    "             'task' : 'regression',\n",
    "             'random_state' : 42,\n",
    "}"
   ]
  },
  {
   "cell_type": "code",
   "execution_count": 12,
   "metadata": {
    "ExecuteTime": {
     "end_time": "2020-08-18T18:34:39.332876Z",
     "start_time": "2020-08-18T18:34:39.310876Z"
    }
   },
   "outputs": [
    {
     "name": "stdout",
     "output_type": "stream",
     "text": [
      "test_data is none. Setting test_data equal to train_data\n"
     ]
    }
   ],
   "source": [
    "data = data_ml.DataLoader(config=data_config)"
   ]
  },
  {
   "cell_type": "code",
   "execution_count": 15,
   "metadata": {
    "ExecuteTime": {
     "end_time": "2020-08-18T18:34:47.737005Z",
     "start_time": "2020-08-18T18:34:47.726017Z"
    }
   },
   "outputs": [],
   "source": [
    "modelling_config = {\n",
    "            'data': data.get_data(),\n",
    "            'model_type' : 'simple',\n",
    "            'model_name' : 'xgboost',\n",
    "            'model_inputs' : {},\n",
    "            'scoring_function' : 'rmse',\n",
    "            'model_initial_params' : {'verbose':True,\n",
    "                                     'boosting': 'gbtree',\n",
    "                                     'tree_method': 'exact',\n",
    "                                     'n_estimators': 127,\n",
    "                                     'max_depth': 9,\n",
    "                                     'reg_alpha': 10,\n",
    "                                     'reg_lambda': 22,\n",
    "                                     'min_child_weight': 1,\n",
    "                                     'gamma': 1,\n",
    "                                     'learning_rate': 0.4901527567844427,\n",
    "                                     },\n",
    "            'hyperparmeter_tuning' : {'enable_tuning' : True,\n",
    "                                      'optimizer' : 'optuna',\n",
    "                                      'optimizer_params' : {'fixed' : {'n_trials' : 5},\n",
    "                                                            'varying' : {'boosting' : ['gbtree', 'gblinear'],\n",
    "                                                                         'tree_method' : ['exact','approx','hist'],\n",
    "                                                                         'n_estimators' : {'min' : 50, 'max' :200},\n",
    "                                                                         'max_depth' : {'min' : 2, 'max' : 10},\n",
    "                                                                         'reg_alpha' : {'min' : 0, 'max' : 10},\n",
    "                                                                         'reg_lambda' : {'min' : 0, 'max' : 25},\n",
    "                                                                         'min_child_weight' : {'min' : 0, 'max' : 1},\n",
    "                                                                         'gamma' : {'min' : 0, 'max' : 50},\n",
    "                                                                         'learning_rate' : {'min' : 0.3, 'max' : 0.5}\n",
    "                                                                        }\n",
    "                                                           },        \n",
    "                                    },\n",
    "            'shap_analysis' : {'enable_shap' : True,\n",
    "                               'use_explainer' : 'tree',\n",
    "                            },\n",
    "    \n",
    "            'task' : 'regression',\n",
    "            'random_state' : 42,\n",
    "}"
   ]
  },
  {
   "cell_type": "code",
   "execution_count": 16,
   "metadata": {
    "ExecuteTime": {
     "end_time": "2020-08-18T18:34:49.724303Z",
     "start_time": "2020-08-18T18:34:48.293303Z"
    }
   },
   "outputs": [
    {
     "name": "stderr",
     "output_type": "stream",
     "text": [
      "[I 2020-08-19 00:04:48,577] Finished trial#0 with value: 0.704573788864112 with parameters: {'boosting': 'gbtree', 'tree_method': 'exact', 'n_estimators': 64, 'max_depth': 9, 'reg_alpha': 4, 'reg_lambda': 6, 'min_child_weight': 1, 'gamma': 18, 'learning_rate': 0.3157188882096635}. Best is trial#0 with value: 0.704573788864112.\n",
      "[I 2020-08-19 00:04:48,895] Finished trial#1 with value: 0.47977427200818973 with parameters: {'boosting': 'gbtree', 'tree_method': 'exact', 'n_estimators': 149, 'max_depth': 9, 'reg_alpha': 7, 'reg_lambda': 2, 'min_child_weight': 1, 'gamma': 1, 'learning_rate': 0.4338062248425382}. Best is trial#0 with value: 0.704573788864112.\n",
      "[I 2020-08-19 00:04:49,153] Finished trial#2 with value: 0.711846627544034 with parameters: {'boosting': 'gblinear', 'tree_method': 'approx', 'n_estimators': 179, 'max_depth': 6, 'reg_alpha': 0, 'reg_lambda': 11, 'min_child_weight': 1, 'gamma': 21, 'learning_rate': 0.301084851720929}. Best is trial#2 with value: 0.711846627544034.\n",
      "[I 2020-08-19 00:04:49,357] Finished trial#3 with value: 0.621705239781252 with parameters: {'boosting': 'gbtree', 'tree_method': 'exact', 'n_estimators': 108, 'max_depth': 4, 'reg_alpha': 6, 'reg_lambda': 19, 'min_child_weight': 1, 'gamma': 2, 'learning_rate': 0.4654767128332679}. Best is trial#2 with value: 0.711846627544034.\n",
      "[I 2020-08-19 00:04:49,578] Finished trial#4 with value: 0.6922353206415285 with parameters: {'boosting': 'gbtree', 'tree_method': 'exact', 'n_estimators': 122, 'max_depth': 8, 'reg_alpha': 1, 'reg_lambda': 3, 'min_child_weight': 0, 'gamma': 13, 'learning_rate': 0.45338087426174195}. Best is trial#2 with value: 0.711846627544034.\n"
     ]
    }
   ],
   "source": [
    "model = model_ml.Model(config=modelling_config)\n",
    "model.create_model()"
   ]
  },
  {
   "cell_type": "code",
   "execution_count": 17,
   "metadata": {
    "ExecuteTime": {
     "end_time": "2020-08-18T18:34:51.599561Z",
     "start_time": "2020-08-18T18:34:51.596591Z"
    }
   },
   "outputs": [],
   "source": [
    "data_pipeline_object = data_ml.ProcessPredictionData(config = data.get_data_artifacts())\n",
    "trained_model_object = model_ml.PredictOnNewData(config = model.get_model_artifacts())"
   ]
  },
  {
   "cell_type": "code",
   "execution_count": 18,
   "metadata": {
    "ExecuteTime": {
     "end_time": "2020-08-18T18:34:52.457943Z",
     "start_time": "2020-08-18T18:34:52.441979Z"
    }
   },
   "outputs": [],
   "source": [
    "save_artifacts(data_object=data_pipeline_object,\n",
    "               model_object=trained_model_object)"
   ]
  },
  {
   "cell_type": "code",
   "execution_count": 21,
   "metadata": {
    "ExecuteTime": {
     "end_time": "2020-08-18T18:36:56.003006Z",
     "start_time": "2020-08-18T18:36:55.962061Z"
    }
   },
   "outputs": [
    {
     "name": "stdout",
     "output_type": "stream",
     "text": [
      "{'prediction': 5.484379768371582}\n"
     ]
    }
   ],
   "source": [
    "to_predict_dict = {\"pH\": 0.38,\n",
    "                   \"chlorides\": 0.53,\n",
    "                   \"volatile_acidity\": 2.0,\n",
    "                   \"citric_acid\": 157,\n",
    "                   \"alcohol\": 3.0,\n",
    "                   \"total_sulfur_dioxide\": 0,\n",
    "                   \"density\": 0,\n",
    "                   \"residual_sugar\": 0.0,\n",
    "                   \"fixed_acidity\": 0.0,\n",
    "                   \"sulphates\" : 0.0,\n",
    "                   \"free_sulfur_dioxide\" : 1.0}\n",
    "\n",
    "to_predict_dict = {\"pH\": 3.00,\n",
    "                   \"chlorides\": 0.045,\n",
    "                   \"volatile_acidity\": 0.27,\n",
    "                   \"citric_acid\": 0.36,\n",
    "                   \"alcohol\": 8.8,\n",
    "                   \"total_sulfur_dioxide\": 170.0,\n",
    "                   \"density\": 1.0010,\n",
    "                   \"residual_sugar\": 20.7,\n",
    "                   \"fixed_acidity\": 7.0,\n",
    "                   \"sulphates\" : 0.45,\n",
    "                   \"free_sulfur_dioxide\" : 45.0}\n",
    "\n",
    "url = 'http://127.0.0.1:8000/predict'\n",
    "r = requests.post(url, json=to_predict_dict)\n",
    "\n",
    "print(r.json())"
   ]
  },
  {
   "cell_type": "code",
   "execution_count": null,
   "metadata": {},
   "outputs": [],
   "source": []
  }
 ],
 "metadata": {
  "hide_input": false,
  "kernelspec": {
   "display_name": "Python 3",
   "language": "python",
   "name": "python3"
  },
  "language_info": {
   "codemirror_mode": {
    "name": "ipython",
    "version": 3
   },
   "file_extension": ".py",
   "mimetype": "text/x-python",
   "name": "python",
   "nbconvert_exporter": "python",
   "pygments_lexer": "ipython3",
   "version": "3.7.7"
  },
  "toc": {
   "base_numbering": 1,
   "nav_menu": {},
   "number_sections": true,
   "sideBar": true,
   "skip_h1_title": false,
   "title_cell": "Table of Contents",
   "title_sidebar": "Contents",
   "toc_cell": false,
   "toc_position": {},
   "toc_section_display": true,
   "toc_window_display": false
  }
 },
 "nbformat": 4,
 "nbformat_minor": 4
}
